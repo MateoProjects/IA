{
  "nbformat": 4,
  "nbformat_minor": 0,
  "metadata": {
    "colab": {
      "name": "Aprenentatge_per_reforç_cap1.ipynb",
      "provenance": [],
      "authorship_tag": "ABX9TyOPPoazsGC+11dW57kR27dZ",
      "include_colab_link": true
    },
    "kernelspec": {
      "name": "python3",
      "display_name": "Python 3"
    },
    "language_info": {
      "name": "python"
    }
  },
  "cells": [
    {
      "cell_type": "markdown",
      "metadata": {
        "id": "view-in-github",
        "colab_type": "text"
      },
      "source": [
        "<a href=\"https://colab.research.google.com/github/MateoProjects/IA/blob/main/Aprenentatge_per_refor%C3%A7_cap1.ipynb\" target=\"_parent\"><img src=\"https://colab.research.google.com/assets/colab-badge.svg\" alt=\"Open In Colab\"/></a>"
      ]
    },
    {
      "cell_type": "markdown",
      "metadata": {
        "id": "akFs_iMlva7r"
      },
      "source": [
        "# IA capítul 1"
      ]
    },
    {
      "cell_type": "code",
      "metadata": {
        "id": "ry2edJ7htoz2"
      },
      "source": [
        "import gym"
      ],
      "execution_count": 1,
      "outputs": []
    },
    {
      "cell_type": "markdown",
      "metadata": {
        "id": "wOis6zwAvXRY"
      },
      "source": [
        "Indiquem l'entorn a utilitzar"
      ]
    },
    {
      "cell_type": "code",
      "metadata": {
        "id": "532qHgSPvUhp"
      },
      "source": [
        "env = gym.make('FrozenLake-v0', is_slippery=False)"
      ],
      "execution_count": 2,
      "outputs": []
    },
    {
      "cell_type": "markdown",
      "metadata": {
        "id": "g8kpWMbzvtWF"
      },
      "source": [
        "Per resetejar el entorn a un estat inicial"
      ]
    },
    {
      "cell_type": "code",
      "metadata": {
        "colab": {
          "base_uri": "https://localhost:8080/"
        },
        "id": "yZj8ZUVcvqrS",
        "outputId": "8a2dc706-79e4-4dcb-a184-f9bd0017e001"
      },
      "source": [
        "env.reset()"
      ],
      "execution_count": 3,
      "outputs": [
        {
          "output_type": "execute_result",
          "data": {
            "text/plain": [
              "0"
            ]
          },
          "metadata": {
            "tags": []
          },
          "execution_count": 3
        }
      ]
    },
    {
      "cell_type": "code",
      "metadata": {
        "colab": {
          "base_uri": "https://localhost:8080/"
        },
        "id": "inoQ6Lk9vzcE",
        "outputId": "869e3f4a-d8b3-43fc-a554-ebb2ab8f0682"
      },
      "source": [
        "env.render()"
      ],
      "execution_count": 4,
      "outputs": [
        {
          "output_type": "stream",
          "text": [
            "\n",
            "\u001b[41mS\u001b[0mFFF\n",
            "FHFH\n",
            "FFFH\n",
            "HFFG\n"
          ],
          "name": "stdout"
        }
      ]
    },
    {
      "cell_type": "code",
      "metadata": {
        "colab": {
          "base_uri": "https://localhost:8080/"
        },
        "id": "nkLvoeiCv2yI",
        "outputId": "f0ee3a63-e098-4c49-cd65-b361c03b47fd"
      },
      "source": [
        "is_done = False\n",
        "t = 0\n",
        "while not is_done:\n",
        "    action = env.action_space.sample()\n",
        "    state, reward, is_done, _ = env.step(action)\n",
        "    env.render()\n",
        "    t += 1\n",
        "print(\"\\nlast state =\", state)\n",
        "print(\"reward = \", reward)\n",
        "print(\"time steps =\", t)"
      ],
      "execution_count": 8,
      "outputs": [
        {
          "output_type": "stream",
          "text": [
            "  (Left)\n",
            "\u001b[41mS\u001b[0mFFF\n",
            "FHFH\n",
            "FFFH\n",
            "HFFG\n",
            "  (Right)\n",
            "S\u001b[41mF\u001b[0mFF\n",
            "FHFH\n",
            "FFFH\n",
            "HFFG\n",
            "  (Up)\n",
            "S\u001b[41mF\u001b[0mFF\n",
            "FHFH\n",
            "FFFH\n",
            "HFFG\n",
            "  (Up)\n",
            "S\u001b[41mF\u001b[0mFF\n",
            "FHFH\n",
            "FFFH\n",
            "HFFG\n",
            "  (Right)\n",
            "SF\u001b[41mF\u001b[0mF\n",
            "FHFH\n",
            "FFFH\n",
            "HFFG\n",
            "  (Left)\n",
            "S\u001b[41mF\u001b[0mFF\n",
            "FHFH\n",
            "FFFH\n",
            "HFFG\n",
            "  (Right)\n",
            "SF\u001b[41mF\u001b[0mF\n",
            "FHFH\n",
            "FFFH\n",
            "HFFG\n",
            "  (Up)\n",
            "SF\u001b[41mF\u001b[0mF\n",
            "FHFH\n",
            "FFFH\n",
            "HFFG\n",
            "  (Up)\n",
            "SF\u001b[41mF\u001b[0mF\n",
            "FHFH\n",
            "FFFH\n",
            "HFFG\n",
            "  (Up)\n",
            "SF\u001b[41mF\u001b[0mF\n",
            "FHFH\n",
            "FFFH\n",
            "HFFG\n",
            "  (Right)\n",
            "SFF\u001b[41mF\u001b[0m\n",
            "FHFH\n",
            "FFFH\n",
            "HFFG\n",
            "  (Left)\n",
            "SF\u001b[41mF\u001b[0mF\n",
            "FHFH\n",
            "FFFH\n",
            "HFFG\n",
            "  (Right)\n",
            "SFF\u001b[41mF\u001b[0m\n",
            "FHFH\n",
            "FFFH\n",
            "HFFG\n",
            "  (Up)\n",
            "SFF\u001b[41mF\u001b[0m\n",
            "FHFH\n",
            "FFFH\n",
            "HFFG\n",
            "  (Left)\n",
            "SF\u001b[41mF\u001b[0mF\n",
            "FHFH\n",
            "FFFH\n",
            "HFFG\n",
            "  (Right)\n",
            "SFF\u001b[41mF\u001b[0m\n",
            "FHFH\n",
            "FFFH\n",
            "HFFG\n",
            "  (Down)\n",
            "SFFF\n",
            "FHF\u001b[41mH\u001b[0m\n",
            "FFFH\n",
            "HFFG\n",
            "\n",
            "last state = 7\n",
            "reward =  0.0\n",
            "time steps = 17\n"
          ],
          "name": "stdout"
        }
      ]
    },
    {
      "cell_type": "markdown",
      "metadata": {
        "id": "N7Wtmln1yLxT"
      },
      "source": [
        "Ara tinc el mateix codi, però afegeixo un agent que indicarà quina acció farem"
      ]
    },
    {
      "cell_type": "code",
      "metadata": {
        "colab": {
          "base_uri": "https://localhost:8080/"
        },
        "id": "mb703NIiwAkt",
        "outputId": "6ec5847f-0924-445e-d33f-7911fa6a1ced"
      },
      "source": [
        "import gym\n",
        "class Agent:\n",
        "  def __init__ (self):\n",
        "    self.internalenv =gym.make(\"FrozenLake-v0\", is_slippery=False)\n",
        "  \n",
        "  def select_action(self):\n",
        "    return self.internalenv.action_space.sample()\n",
        "\n",
        "env = gym.make('FrozenLake-v0', is_slippery=False)\n",
        "env.reset()\n",
        "env.render()\n",
        "is_done = False\n",
        "t = 0\n",
        "agent = Agent()\n",
        "while not is_done:\n",
        "  action = agent.select_action()\n",
        "  state, reward, is_done, _ = env.step(action)\n",
        "  env.render()\n",
        "  t += 1\n",
        "print(\"\\nlast state =\", state)\n",
        "print(\"reward = \", reward)\n",
        "print(\"time steps =\", t)\n",
        "\n"
      ],
      "execution_count": 10,
      "outputs": [
        {
          "output_type": "stream",
          "text": [
            "\n",
            "\u001b[41mS\u001b[0mFFF\n",
            "FHFH\n",
            "FFFH\n",
            "HFFG\n",
            "  (Down)\n",
            "SFFF\n",
            "\u001b[41mF\u001b[0mHFH\n",
            "FFFH\n",
            "HFFG\n",
            "  (Right)\n",
            "SFFF\n",
            "F\u001b[41mH\u001b[0mFH\n",
            "FFFH\n",
            "HFFG\n",
            "\n",
            "last state = 5\n",
            "reward =  0.0\n",
            "time steps = 2\n"
          ],
          "name": "stdout"
        }
      ]
    },
    {
      "cell_type": "markdown",
      "metadata": {
        "id": "-KgGnQfl2jUo"
      },
      "source": [
        ""
      ]
    }
  ]
}