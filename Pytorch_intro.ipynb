{
  "nbformat": 4,
  "nbformat_minor": 0,
  "metadata": {
    "colab": {
      "name": "Pytorch_intro.ipynb",
      "provenance": [],
      "toc_visible": true,
      "authorship_tag": "ABX9TyMP+JiuPVR3+gIMI8syo3xO",
      "include_colab_link": true
    },
    "kernelspec": {
      "name": "python3",
      "display_name": "Python 3"
    },
    "language_info": {
      "name": "python"
    },
    "accelerator": "GPU"
  },
  "cells": [
    {
      "cell_type": "markdown",
      "metadata": {
        "id": "view-in-github",
        "colab_type": "text"
      },
      "source": [
        "<a href=\"https://colab.research.google.com/github/MateoProjects/IA/blob/main/Pytorch_intro.ipynb\" target=\"_parent\"><img src=\"https://colab.research.google.com/assets/colab-badge.svg\" alt=\"Open In Colab\"/></a>"
      ]
    },
    {
      "cell_type": "markdown",
      "source": [
        "# Pytorch Guide"
      ],
      "metadata": {
        "id": "UkMqzS3oN0wH"
      }
    },
    {
      "cell_type": "markdown",
      "source": [
        "## Tensors"
      ],
      "metadata": {
        "id": "u6sxK1CcOKzT"
      }
    },
    {
      "cell_type": "code",
      "execution_count": 1,
      "metadata": {
        "id": "36vwyDA7Nv0b"
      },
      "outputs": [],
      "source": [
        "import torch\n",
        "import numpy as np"
      ]
    },
    {
      "cell_type": "markdown",
      "source": [
        "**Definició de tensors**"
      ],
      "metadata": {
        "id": "QBXW1ZKOOS3z"
      }
    },
    {
      "cell_type": "code",
      "source": [
        "a = torch.tensor([1, 2])\n",
        "b = torch.tensor([8, 9])\n",
        "c = a + b\n",
        "print(c)\n"
      ],
      "metadata": {
        "colab": {
          "base_uri": "https://localhost:8080/"
        },
        "id": "vIqRjaMcOSBL",
        "outputId": "009c279b-ff34-4171-97eb-b4a000706e57"
      },
      "execution_count": 2,
      "outputs": [
        {
          "output_type": "stream",
          "name": "stdout",
          "text": [
            "tensor([ 9, 11])\n"
          ]
        }
      ]
    },
    {
      "cell_type": "markdown",
      "source": [
        "* Puc convertir-los a numpy i a l'inversa"
      ],
      "metadata": {
        "id": "URNMZbhyOuIB"
      }
    },
    {
      "cell_type": "code",
      "source": [
        "a = torch.tensor([1, 2])\n",
        "print(a.numpy())\n",
        "\n",
        "a = np.array([1, 2])\n",
        "torch.from_numpy(a)\n"
      ],
      "metadata": {
        "colab": {
          "base_uri": "https://localhost:8080/"
        },
        "id": "96glv0SvOiBT",
        "outputId": "f2e47b5c-ab62-4cb6-a802-6edd43e509de"
      },
      "execution_count": 3,
      "outputs": [
        {
          "output_type": "stream",
          "name": "stdout",
          "text": [
            "[1 2]\n"
          ]
        },
        {
          "output_type": "execute_result",
          "data": {
            "text/plain": [
              "tensor([1, 2])"
            ]
          },
          "metadata": {},
          "execution_count": 3
        }
      ]
    },
    {
      "cell_type": "markdown",
      "source": [
        "* Tensors de tipus float"
      ],
      "metadata": {
        "id": "GHgPNvdeQN-c"
      }
    },
    {
      "cell_type": "code",
      "source": [
        "torch.FloatTensor([[1, 2], [2, 1]])"
      ],
      "metadata": {
        "colab": {
          "base_uri": "https://localhost:8080/"
        },
        "id": "bcb1wYXQQSbs",
        "outputId": "73934896-936a-400a-b8f2-e714826f3418"
      },
      "execution_count": 4,
      "outputs": [
        {
          "output_type": "execute_result",
          "data": {
            "text/plain": [
              "tensor([[1., 2.],\n",
              "        [2., 1.]])"
            ]
          },
          "metadata": {},
          "execution_count": 4
        }
      ]
    },
    {
      "cell_type": "markdown",
      "source": [
        "* Definicio del tipus del tensor"
      ],
      "metadata": {
        "id": "wqRCb2dJQN1E"
      }
    },
    {
      "cell_type": "code",
      "source": [
        "torch.tensor([[1, 2], [2, 1]], dtype=torch.bool)\n"
      ],
      "metadata": {
        "colab": {
          "base_uri": "https://localhost:8080/"
        },
        "id": "QEGqy8ZUQZwX",
        "outputId": "bb05a920-2561-46a2-911b-df93327f9204"
      },
      "execution_count": 5,
      "outputs": [
        {
          "output_type": "execute_result",
          "data": {
            "text/plain": [
              "tensor([[True, True],\n",
              "        [True, True]])"
            ]
          },
          "metadata": {},
          "execution_count": 5
        }
      ]
    },
    {
      "cell_type": "markdown",
      "source": [
        "* Com en numpy puc definir o tensors amb valors rand o només d'uns"
      ],
      "metadata": {
        "id": "Rsh4uFBDRKR-"
      }
    },
    {
      "cell_type": "code",
      "source": [
        "# tensor de 2D amb 2 elements per D\n",
        "print(torch.ones(3, 2))\n",
        "print(torch.rand(3, 2))"
      ],
      "metadata": {
        "colab": {
          "base_uri": "https://localhost:8080/"
        },
        "id": "8cEpdyOSRO0g",
        "outputId": "517df46a-9ff3-4a93-b495-8f82cadd24c1"
      },
      "execution_count": 6,
      "outputs": [
        {
          "output_type": "stream",
          "name": "stdout",
          "text": [
            "tensor([[1., 1.],\n",
            "        [1., 1.],\n",
            "        [1., 1.]])\n",
            "tensor([[0.7139, 0.9844],\n",
            "        [0.5556, 0.4576],\n",
            "        [0.4606, 0.3923]])\n"
          ]
        }
      ]
    },
    {
      "cell_type": "markdown",
      "source": [
        "### Operacions"
      ],
      "metadata": {
        "id": "SlpKmZvtSK18"
      }
    },
    {
      "cell_type": "markdown",
      "source": [
        "* Amb **.sum** puc sumar tots els elements del tensor. "
      ],
      "metadata": {
        "id": "ui5jgETXSWnn"
      }
    },
    {
      "cell_type": "code",
      "source": [
        "a = torch.tensor([[2,3], [1,2]])\n",
        "a.sum()"
      ],
      "metadata": {
        "colab": {
          "base_uri": "https://localhost:8080/"
        },
        "id": "zdMxHvpMSMWs",
        "outputId": "26715750-b53d-453e-ef96-5fafda7feeea"
      },
      "execution_count": 7,
      "outputs": [
        {
          "output_type": "execute_result",
          "data": {
            "text/plain": [
              "tensor(8)"
            ]
          },
          "metadata": {},
          "execution_count": 7
        }
      ]
    },
    {
      "cell_type": "markdown",
      "source": [
        "* O la transposada"
      ],
      "metadata": {
        "id": "76UdwRAESk-t"
      }
    },
    {
      "cell_type": "code",
      "source": [
        "a.t()"
      ],
      "metadata": {
        "colab": {
          "base_uri": "https://localhost:8080/"
        },
        "id": "B5cUFymbSkKy",
        "outputId": "73148e2e-3b24-4664-a013-5afcfc554080"
      },
      "execution_count": 8,
      "outputs": [
        {
          "output_type": "execute_result",
          "data": {
            "text/plain": [
              "tensor([[2, 1],\n",
              "        [3, 2]])"
            ]
          },
          "metadata": {},
          "execution_count": 8
        }
      ]
    },
    {
      "cell_type": "markdown",
      "source": [
        "* El size"
      ],
      "metadata": {
        "id": "1gRIftKLS9SU"
      }
    },
    {
      "cell_type": "code",
      "source": [
        "a.size()"
      ],
      "metadata": {
        "colab": {
          "base_uri": "https://localhost:8080/"
        },
        "id": "VA_pzH0OSUM8",
        "outputId": "48874670-03db-407c-9778-37b711f002af"
      },
      "execution_count": 9,
      "outputs": [
        {
          "output_type": "execute_result",
          "data": {
            "text/plain": [
              "torch.Size([2, 2])"
            ]
          },
          "metadata": {},
          "execution_count": 9
        }
      ]
    },
    {
      "cell_type": "markdown",
      "source": [
        "* Puc crear un tensor i sumnar-lo sobre un ja existent."
      ],
      "metadata": {
        "id": "BpWdeSJ3TCCM"
      }
    },
    {
      "cell_type": "code",
      "source": [
        "b = torch.tensor([[4,2],[3,2]])\n",
        "a.add(b)"
      ],
      "metadata": {
        "colab": {
          "base_uri": "https://localhost:8080/"
        },
        "id": "_KRk3R9kTG50",
        "outputId": "3ad48c08-6fc5-4dba-8d16-72370d1d42dc"
      },
      "execution_count": 10,
      "outputs": [
        {
          "output_type": "execute_result",
          "data": {
            "text/plain": [
              "tensor([[6, 5],\n",
              "        [4, 4]])"
            ]
          },
          "metadata": {},
          "execution_count": 10
        }
      ]
    },
    {
      "cell_type": "code",
      "source": [
        ""
      ],
      "metadata": {
        "id": "j29sgX6PTOcM"
      },
      "execution_count": 10,
      "outputs": []
    },
    {
      "cell_type": "markdown",
      "source": [
        "## CPU o GPU"
      ],
      "metadata": {
        "id": "MIup0d_dTWz2"
      }
    },
    {
      "cell_type": "code",
      "source": [
        "device = torch.device(\"cuda\") if torch.cuda.is_available() else torch.device(\"cpu\")"
      ],
      "metadata": {
        "id": "FjFKoJeITYvM"
      },
      "execution_count": 11,
      "outputs": []
    },
    {
      "cell_type": "markdown",
      "source": [
        "Per moure un tensor cap al device"
      ],
      "metadata": {
        "id": "LPzD_95kTfmH"
      }
    },
    {
      "cell_type": "code",
      "source": [
        "x = torch.tensor([[2, 3], [1, 2]])\n",
        "x.to(device)\n"
      ],
      "metadata": {
        "colab": {
          "base_uri": "https://localhost:8080/"
        },
        "id": "5K6RsBwrTjQR",
        "outputId": "6d51060a-4974-45c4-96f9-abd32f937f7c"
      },
      "execution_count": 12,
      "outputs": [
        {
          "output_type": "execute_result",
          "data": {
            "text/plain": [
              "tensor([[2, 3],\n",
              "        [1, 2]], device='cuda:0')"
            ]
          },
          "metadata": {},
          "execution_count": 12
        }
      ]
    }
  ]
}