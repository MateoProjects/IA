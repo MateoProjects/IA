{
  "nbformat": 4,
  "nbformat_minor": 0,
  "metadata": {
    "colab": {
      "name": "Deep Learning introduction",
      "provenance": [],
      "collapsed_sections": [],
      "authorship_tag": "ABX9TyOWGJohKpgmPe7873p/KtgC",
      "include_colab_link": true
    },
    "kernelspec": {
      "name": "python3",
      "display_name": "Python 3"
    },
    "accelerator": "GPU"
  },
  "cells": [
    {
      "cell_type": "markdown",
      "metadata": {
        "id": "view-in-github",
        "colab_type": "text"
      },
      "source": [
        "<a href=\"https://colab.research.google.com/github/MateoProjects/DeepLearning/blob/master/Deep_Learning_introduction.ipynb\" target=\"_parent\"><img src=\"https://colab.research.google.com/assets/colab-badge.svg\" alt=\"Open In Colab\"/></a>"
      ]
    },
    {
      "cell_type": "markdown",
      "metadata": {
        "id": "CDAeQb6Y90lt",
        "colab_type": "text"
      },
      "source": [
        "# **Introducció Python Deep Learning**"
      ]
    },
    {
      "cell_type": "markdown",
      "metadata": {
        "id": "YETUlFpw91Tp",
        "colab_type": "text"
      },
      "source": [
        "Per comprovar la versió de tensor flow disponible utilitzarem la següent comanda"
      ]
    },
    {
      "cell_type": "code",
      "metadata": {
        "id": "aGRZBn-l7Njd",
        "colab_type": "code",
        "colab": {}
      },
      "source": [
        "%tensorflow_version 2.x"
      ],
      "execution_count": null,
      "outputs": []
    },
    {
      "cell_type": "markdown",
      "metadata": {
        "id": "eOihCH49-KnA",
        "colab_type": "text"
      },
      "source": [
        "##Imports "
      ]
    },
    {
      "cell_type": "code",
      "metadata": {
        "id": "k78bZFJl7z1f",
        "colab_type": "code",
        "colab": {
          "base_uri": "https://localhost:8080/",
          "height": 51
        },
        "outputId": "d72f497a-a816-47e4-fe97-047046ebe1be"
      },
      "source": [
        "import tensorflow as tf\n",
        "from tensorflow import keras\n",
        "print(\"GPU available: \", tf.test.is_gpu_available())\n",
        "print(tf.keras.__version__)"
      ],
      "execution_count": null,
      "outputs": [
        {
          "output_type": "stream",
          "text": [
            "GPU available:  True\n",
            "2.3.0-tf\n"
          ],
          "name": "stdout"
        }
      ]
    },
    {
      "cell_type": "markdown",
      "metadata": {
        "id": "sWCwG_Zh-UFV",
        "colab_type": "text"
      },
      "source": [
        "##Recordatori coses bàsiques de Python"
      ]
    },
    {
      "cell_type": "markdown",
      "metadata": {
        "id": "pBOauvj6-dKQ",
        "colab_type": "text"
      },
      "source": [
        "1. Declaració de iteradors\n",
        "\n"
      ]
    },
    {
      "cell_type": "code",
      "metadata": {
        "id": "42DwX01e-ag_",
        "colab_type": "code",
        "colab": {
          "base_uri": "https://localhost:8080/",
          "height": 51
        },
        "outputId": "02425268-b25d-48a1-fb48-a973d64f238f"
      },
      "source": [
        "vec = [1 , 2 ,3 ]\n",
        "it = iter(vec)\n",
        "print(next(it))\n",
        "print(\"Type of it is: \" , type(it))\n"
      ],
      "execution_count": null,
      "outputs": [
        {
          "output_type": "stream",
          "text": [
            "1\n",
            "Type of it is:  <class 'list_iterator'>\n"
          ],
          "name": "stdout"
        }
      ]
    },
    {
      "cell_type": "markdown",
      "metadata": {
        "id": "yHBFS8UL_DSk",
        "colab_type": "text"
      },
      "source": [
        "2. Decoradors\n",
        "\n",
        "*   Augmenten les funcionalitats d'una funció sense modificarla\n",
        "\n",
        "\n"
      ]
    },
    {
      "cell_type": "code",
      "metadata": {
        "id": "2VSQ4kk1_Fgk",
        "colab_type": "code",
        "colab": {
          "base_uri": "https://localhost:8080/",
          "height": 68
        },
        "outputId": "63f4561e-bd8f-44fc-ad4a-0acdfd9532c1"
      },
      "source": [
        "def voy_a_imprimir_hola():\n",
        "  print(\"Hola\")\n",
        "\n",
        "def my_decorator(func):\n",
        "  def wrapper():\n",
        "    print(\"[Aviso que voy a decir algo]\")\n",
        "    func()\n",
        "    print(\"[Aviso que ya he dicho algo]\")\n",
        "  return wrapper\n",
        "\n",
        "voy_a_imprimir_hola = my_decorator(voy_a_imprimir_hola)\n",
        "voy_a_imprimir_hola()"
      ],
      "execution_count": null,
      "outputs": [
        {
          "output_type": "stream",
          "text": [
            "[Aviso que voy a decir algo]\n",
            "Hola\n",
            "[Aviso que ya he dicho algo]\n"
          ],
          "name": "stdout"
        }
      ]
    },
    {
      "cell_type": "markdown",
      "metadata": {
        "id": "1cJyTyZTA_0I",
        "colab_type": "text"
      },
      "source": [
        "\n",
        "* Un altre forma i més fàcil és posar **@my_decorator** sobre la funcio a decorar i el codi ja ho entendrà completament sol "
      ]
    },
    {
      "cell_type": "code",
      "metadata": {
        "id": "pcfnk5h0A09k",
        "colab_type": "code",
        "colab": {
          "base_uri": "https://localhost:8080/",
          "height": 68
        },
        "outputId": "2ed1b836-8fba-449e-f80a-fde3843ce9d4"
      },
      "source": [
        "@my_decorator\n",
        "def voy_a_imprimir_hola():\n",
        "  print(\"Hola\")\n",
        "\n",
        "def my_decorator(func):\n",
        "  def wrapper():\n",
        "    print(\"[Aviso que voy a decir algo]\")\n",
        "    func()\n",
        "    print(\"[Aviso que ya he dicho algo]\")\n",
        "  return wrapper\n",
        "\n",
        "voy_a_imprimir_hola()"
      ],
      "execution_count": null,
      "outputs": [
        {
          "output_type": "stream",
          "text": [
            "[Aviso que voy a decir algo]\n",
            "Hola\n",
            "[Aviso que ya he dicho algo]\n"
          ],
          "name": "stdout"
        }
      ]
    },
    {
      "cell_type": "markdown",
      "metadata": {
        "id": "b4t86KZ-DPzm",
        "colab_type": "text"
      },
      "source": [
        "#Tensor\n",
        "\n",
        "* Estructura bàsica de dades a la que es fa referència quan parlem d'arrays multidimensionals en NumPy \n",
        "\n",
        "1.   Rank : número d'eixos. A un tensor que conte sols conté un sol número s'anomenarà escalar o tensor 0D . Un array de números sel anomenarà vector o tensor 1D . Un array de arrays ( Matriu) o tensor 2D . Si posem aquesta matriu dins d'un altre array obtindrem tensor 3D i així succesivament. En Numpy això és el ndim\n",
        "2.   Forma: Tupla d'enteres que descriuen quantes dimensions té el tensor en cada eix.  Dins de numpy aquest atribut sel anomena **shape** . Per exemple el vector tindrà un únic element , mentres que un escalar tindrà un shape buit.\n",
        "3. Tipus de dades : Aquest atribut indicar el tipus de dades que conté el tensor. A numpy s'anomena dtype a aquest atribut. \n",
        "\n",
        "\n"
      ]
    },
    {
      "cell_type": "code",
      "metadata": {
        "id": "JklEAVqlDIfU",
        "colab_type": "code",
        "colab": {
          "base_uri": "https://localhost:8080/",
          "height": 102
        },
        "outputId": "758036cd-c1b2-416b-fdb6-e0fcd5ed642c"
      },
      "source": [
        "import numpy as np\n",
        "\n",
        "x = np.array(8.2) # declaro array de numpy de 8 elements\n",
        "print(\"x : \" , x)\n",
        "print(\"x dimension is: \" , x.ndim) #indica les dimensions del array\n",
        "print(\"x number of shapes : \" , x.shape) # indica el número de dimensions del array\n",
        "print(\"x size: \" , x.size) # tamany de l'array\n",
        "print(\"x type : \" , x.dtype)"
      ],
      "execution_count": null,
      "outputs": [
        {
          "output_type": "stream",
          "text": [
            "x :  8.2\n",
            "x dimension is:  0\n",
            "x number of shapes :  ()\n",
            "x size:  1\n",
            "x type :  float64\n"
          ],
          "name": "stdout"
        }
      ]
    },
    {
      "cell_type": "markdown",
      "metadata": {
        "id": "f9KcKxa4FrxE",
        "colab_type": "text"
      },
      "source": [
        "Ara es passa a fer la prova amb un tensor 1D"
      ]
    },
    {
      "cell_type": "code",
      "metadata": {
        "id": "JA1TTYdxFvkc",
        "colab_type": "code",
        "colab": {
          "base_uri": "https://localhost:8080/",
          "height": 102
        },
        "outputId": "046e6615-7240-4ea8-8957-6e12e8c29e76"
      },
      "source": [
        "import numpy as np\n",
        "\n",
        "x = np.array([5,3,5,6]) # declaro array de numpy de 8 elements\n",
        "print(\"x : \" , x)\n",
        "print(\"x dimension is : \" , x.ndim) #indica les dimensions del array\n",
        "print(\"x number of shapes : \" , x.shape) # indica el número de dimensions del array\n",
        "print(\"x size : \" , x.size) # tamany de l'array\n",
        "print(\"x type : \" , x.dtype)"
      ],
      "execution_count": null,
      "outputs": [
        {
          "output_type": "stream",
          "text": [
            "x :  [5 3 5 6]\n",
            "x dimension is :  1\n",
            "x number of shapes :  (4,)\n",
            "x size :  4\n",
            "x type :  int64\n"
          ],
          "name": "stdout"
        }
      ]
    },
    {
      "cell_type": "markdown",
      "metadata": {
        "id": "p2lf7QwUGp8B",
        "colab_type": "text"
      },
      "source": [
        "Tensor 2D"
      ]
    },
    {
      "cell_type": "code",
      "metadata": {
        "id": "jxrjAwjXGrVV",
        "colab_type": "code",
        "colab": {
          "base_uri": "https://localhost:8080/",
          "height": 119
        },
        "outputId": "a6c327bf-c1fe-4d23-81e4-fe5467c391a3"
      },
      "source": [
        "import numpy as np\n",
        "\n",
        "x = np.array([[5,3,5,6],[5,3,5,6]]) # declaro array de numpy de 8 elements\n",
        "print(\"x : \" , x)\n",
        "print(\"x dimension is : \" , x.ndim) #indica les dimensions del array\n",
        "print(\"x number of shapes : \" , x.shape) # indica el número de dimensions del array\n",
        "print(\"x size : \" , x.size) # tamany de l'array\n",
        "print(\"x type : \" , x.dtype)"
      ],
      "execution_count": null,
      "outputs": [
        {
          "output_type": "stream",
          "text": [
            "x :  [[5 3 5 6]\n",
            " [5 3 5 6]]\n",
            "x dimension is :  2\n",
            "x number of shapes :  (2, 4)\n",
            "x size :  8\n",
            "x type :  int64\n"
          ],
          "name": "stdout"
        }
      ]
    },
    {
      "cell_type": "markdown",
      "metadata": {
        "id": "YCPJAdz5G2QO",
        "colab_type": "text"
      },
      "source": [
        "Tensor 3D"
      ]
    },
    {
      "cell_type": "code",
      "metadata": {
        "id": "FsNS6PHZG19e",
        "colab_type": "code",
        "colab": {
          "base_uri": "https://localhost:8080/",
          "height": 170
        },
        "outputId": "23107147-b149-485d-d977-0216c089f8b0"
      },
      "source": [
        "import numpy as np\n",
        "\n",
        "x = np.array([[[5,3],[5,6]],[[5,6] , [7,8]]]) # declaro array de numpy de 8 elements\n",
        "print(\"x : \" , x)\n",
        "print(\"x dimension is : \" , x.ndim) #indica les dimensions del array\n",
        "print(\"x number of shapes : \" , x.shape) # indica el número de dimensions del array\n",
        "print(\"x size : \" , x.size) # tamany de l'array\n",
        "print(\"x type : \" , x.dtype)"
      ],
      "execution_count": null,
      "outputs": [
        {
          "output_type": "stream",
          "text": [
            "x :  [[[5 3]\n",
            "  [5 6]]\n",
            "\n",
            " [[5 6]\n",
            "  [7 8]]]\n",
            "x dimension is :  3\n",
            "x number of shapes :  (2, 2, 2)\n",
            "x size :  8\n",
            "x type :  int64\n"
          ],
          "name": "stdout"
        }
      ]
    },
    {
      "cell_type": "markdown",
      "metadata": {
        "id": "6FBwOTf1HmuR",
        "colab_type": "text"
      },
      "source": [
        "##Funcions útils NumPy"
      ]
    },
    {
      "cell_type": "code",
      "metadata": {
        "id": "ONrpbgHYHrCg",
        "colab_type": "code",
        "colab": {
          "base_uri": "https://localhost:8080/",
          "height": 289
        },
        "outputId": "b5a5b8c8-31e5-4b68-9b8b-aa2b9ba9fa39"
      },
      "source": [
        "print(\"--- Matriu de 0 ---\")\n",
        "print(np.zeros((3,3)))\n",
        "print(\"--- Matriu de 1 ---\")\n",
        "print(np.ones((3,3)))\n",
        "print(\"--- Matriu d'identitat ---\")\n",
        "print(np.eye((3)))\n",
        "print(\"--- Matriu random ---\")\n",
        "print(np.random.random((3,3)))"
      ],
      "execution_count": null,
      "outputs": [
        {
          "output_type": "stream",
          "text": [
            "--- Matriu de 0 ---\n",
            "[[0. 0. 0.]\n",
            " [0. 0. 0.]\n",
            " [0. 0. 0.]]\n",
            "--- Matriu de 1 ---\n",
            "[[1. 1. 1.]\n",
            " [1. 1. 1.]\n",
            " [1. 1. 1.]]\n",
            "--- Matriu d'identitat ---\n",
            "[[1. 0. 0.]\n",
            " [0. 1. 0.]\n",
            " [0. 0. 1.]]\n",
            "--- Matriu random ---\n",
            "[[0.28967359 0.13499649 0.0327376 ]\n",
            " [0.30643659 0.03706831 0.21663384]\n",
            " [0.27352262 0.37199342 0.83111337]]\n"
          ],
          "name": "stdout"
        }
      ]
    },
    {
      "cell_type": "markdown",
      "metadata": {
        "id": "RpzTlhsPJoMZ",
        "colab_type": "text"
      },
      "source": [
        "Quan vui afectuar una múltiplicació de matrius però aquestes tenen diferents files i columnes puc fer el següent:"
      ]
    },
    {
      "cell_type": "code",
      "metadata": {
        "id": "cBp9VXq6IUVc",
        "colab_type": "code",
        "colab": {
          "base_uri": "https://localhost:8080/",
          "height": 136
        },
        "outputId": "5f883390-3fac-4a8c-f13d-53dbe2e5e49d"
      },
      "source": [
        "import numpy as np\n",
        "\n",
        "a = np.array([[1,2,3],[4,5,6]])\n",
        "b = np.array([[7,8] ,  [1,2] , [3,4]])\n",
        "print(a)\n",
        "print(b)\n",
        "c = a.dot(b)\n",
        "print(c)"
      ],
      "execution_count": null,
      "outputs": [
        {
          "output_type": "stream",
          "text": [
            "[[1 2 3]\n",
            " [4 5 6]]\n",
            "[[7 8]\n",
            " [1 2]\n",
            " [3 4]]\n",
            "[[18 24]\n",
            " [51 66]]\n"
          ],
          "name": "stdout"
        }
      ]
    },
    {
      "cell_type": "markdown",
      "metadata": {
        "id": "6o4QWuq0KTZs",
        "colab_type": "text"
      },
      "source": [
        "Quan vulgui canviar la forma dels tensors haure de fer el següent"
      ]
    },
    {
      "cell_type": "code",
      "metadata": {
        "id": "rM1GT_yFKXA8",
        "colab_type": "code",
        "colab": {
          "base_uri": "https://localhost:8080/",
          "height": 153
        },
        "outputId": "4edabd53-8e69-40b8-c400-27bb57528375"
      },
      "source": [
        "x = np.array([[1,2,3,4,5,6]])\n",
        "print(x)\n",
        "print(\"x shape : \" , x.shape)\n",
        "y = np.reshape(x , (2,3))\n",
        "print(y)\n",
        "print(\"y shape : \" , y.shape)\n",
        "z = np.reshape(x , (2 , -1))\n",
        "print(z)\n",
        "print(\"z shape : \" , z.shape)"
      ],
      "execution_count": null,
      "outputs": [
        {
          "output_type": "stream",
          "text": [
            "[[1 2 3 4 5 6]]\n",
            "x shape :  (1, 6)\n",
            "[[1 2 3]\n",
            " [4 5 6]]\n",
            "y shape :  (2, 3)\n",
            "[[1 2 3]\n",
            " [4 5 6]]\n",
            "z shape :  (2, 3)\n"
          ],
          "name": "stdout"
        }
      ]
    },
    {
      "cell_type": "markdown",
      "metadata": {
        "id": "BqoKe4NHLjtb",
        "colab_type": "text"
      },
      "source": [
        "Per afegir una dimensio a un array :"
      ]
    },
    {
      "cell_type": "code",
      "metadata": {
        "id": "QBhPis8dLmNr",
        "colab_type": "code",
        "colab": {
          "base_uri": "https://localhost:8080/",
          "height": 119
        },
        "outputId": "4a36686e-7ae4-4988-d9f2-ed559ead4669"
      },
      "source": [
        "x = np.array([[1,2,3],[5,4,3]])\n",
        "print(\"x shape is : \" , x.shape)\n",
        "y = np.expand_dims(x , 1)\n",
        "print(\" y :\\n\" , y)\n",
        "print(\"y shape :\" , y.shape)\n"
      ],
      "execution_count": null,
      "outputs": [
        {
          "output_type": "stream",
          "text": [
            "x shape is :  (2, 3)\n",
            " y :\n",
            " [[[1 2 3]]\n",
            "\n",
            " [[5 4 3]]]\n",
            "y shape : (2, 1, 3)\n"
          ],
          "name": "stdout"
        }
      ]
    },
    {
      "cell_type": "markdown",
      "metadata": {
        "id": "IWB0w6VuMYgU",
        "colab_type": "text"
      },
      "source": [
        "Per esborrar una dimensió :"
      ]
    },
    {
      "cell_type": "code",
      "metadata": {
        "id": "e4YyCkEzMYAk",
        "colab_type": "code",
        "colab": {
          "base_uri": "https://localhost:8080/",
          "height": 102
        },
        "outputId": "4069e737-8a49-4b9d-93b6-39fcb99ae3eb"
      },
      "source": [
        "x = np.array([[[1,2,3]],[[5,4,3]]])\n",
        "print(\"x shape is : \" , x.shape)\n",
        "y = np.squeeze(x , 1)\n",
        "print(\" y :\\n\" , y)\n",
        "print(\"y shape :\" , y.shape)"
      ],
      "execution_count": null,
      "outputs": [
        {
          "output_type": "stream",
          "text": [
            "x shape is :  (2, 1, 3)\n",
            " y :\n",
            " [[1 2 3]\n",
            " [5 4 3]]\n",
            "y shape : (2, 3)\n"
          ],
          "name": "stdout"
        }
      ]
    },
    {
      "cell_type": "markdown",
      "metadata": {
        "id": "371piDv3NAix",
        "colab_type": "text"
      },
      "source": [
        "Per saber el valor màxim d'un tensor es fa servir:\n",
        "\n",
        "\n",
        "* np.argmax(x) per obtenir la posició del valor màxim dins la x\n",
        "* np.max(x) per saber el valor màxim dins la x\n",
        "\n"
      ]
    },
    {
      "cell_type": "code",
      "metadata": {
        "id": "Ud5ihM_FM4p-",
        "colab_type": "code",
        "colab": {
          "base_uri": "https://localhost:8080/",
          "height": 102
        },
        "outputId": "cf338301-af65-4509-d1a2-e7c670779979"
      },
      "source": [
        "print(x)\n",
        "print(np.argmax(x))\n",
        "print(np.max(x))"
      ],
      "execution_count": null,
      "outputs": [
        {
          "output_type": "stream",
          "text": [
            "[[[1 2 3]]\n",
            "\n",
            " [[5 4 3]]]\n",
            "3\n",
            "5\n"
          ],
          "name": "stdout"
        }
      ]
    },
    {
      "cell_type": "markdown",
      "metadata": {
        "id": "lBf5MRqAN_sH",
        "colab_type": "text"
      },
      "source": [
        "Puc especificar sobre quin eix es pot fer la cerca"
      ]
    },
    {
      "cell_type": "code",
      "metadata": {
        "id": "kl3mmm9OOC0I",
        "colab_type": "code",
        "colab": {
          "base_uri": "https://localhost:8080/",
          "height": 68
        },
        "outputId": "a3de5848-d8bd-48b2-893d-823935fdbe87"
      },
      "source": [
        "print(\"Eix 0 el màx es troba a : \",np.argmax(x, axis=0))\n",
        "print(\"Eix 0 el màx es troba a : \",np.argmax(x ,axis=1))"
      ],
      "execution_count": null,
      "outputs": [
        {
          "output_type": "stream",
          "text": [
            "Eix 0 el màx es troba a :  [[1 1 0]]\n",
            "Eix 0 el màx es troba a :  [[0 0 0]\n",
            " [0 0 0]]\n"
          ],
          "name": "stdout"
        }
      ]
    }
  ]
}