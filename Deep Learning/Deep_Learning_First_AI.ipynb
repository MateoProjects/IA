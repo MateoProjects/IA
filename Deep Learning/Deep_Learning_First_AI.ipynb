{
  "nbformat": 4,
  "nbformat_minor": 0,
  "metadata": {
    "colab": {
      "name": "Deep Learning First AI.ipynb",
      "provenance": [],
      "collapsed_sections": [],
      "authorship_tag": "ABX9TyPopER6EW+WiJs571ks8kAK",
      "include_colab_link": true
    },
    "kernelspec": {
      "name": "python3",
      "display_name": "Python 3"
    },
    "accelerator": "GPU"
  },
  "cells": [
    {
      "cell_type": "markdown",
      "metadata": {
        "id": "view-in-github",
        "colab_type": "text"
      },
      "source": [
        "<a href=\"https://colab.research.google.com/github/MateoProjects/DeepLearning/blob/master/Deep_Learning_First_AI.ipynb\" target=\"_parent\"><img src=\"https://colab.research.google.com/assets/colab-badge.svg\" alt=\"Open In Colab\"/></a>"
      ]
    },
    {
      "cell_type": "code",
      "metadata": {
        "id": "TkDg8nkkO4mG",
        "colab_type": "code",
        "colab": {
          "base_uri": "https://localhost:8080/",
          "height": 85
        },
        "outputId": "9c236c36-ec86-4b36-d62d-68c3a91e3e9f"
      },
      "source": [
        "%tensorflow_version 2.x\n",
        "import tensorflow as tf\n",
        "from tensorflow import keras\n",
        "import numpy as np\n",
        "print(tf.test.is_gpu_available())"
      ],
      "execution_count": null,
      "outputs": [
        {
          "output_type": "stream",
          "text": [
            "WARNING:tensorflow:From <ipython-input-1-8c093481e881>:5: is_gpu_available (from tensorflow.python.framework.test_util) is deprecated and will be removed in a future version.\n",
            "Instructions for updating:\n",
            "Use `tf.config.list_physical_devices('GPU')` instead.\n",
            "True\n"
          ],
          "name": "stdout"
        }
      ]
    },
    {
      "cell_type": "markdown",
      "metadata": {
        "id": "_np8XmP6FT4Z",
        "colab_type": "text"
      },
      "source": [
        "* Softmax : algorisme d'activació. Aquesta funció té una característica i és que la seva predicció o estarà proper a 1 i la resta de valors a 0\n",
        "\n",
        "* Sigmoid : Funció que retorna o 1 o 0 a partir d'una formula. Que és: z = b + sum(x * w) => y = 1 si z >= 0 else 0 si z < 0 \n",
        " \n",
        "![Neurona IA amb sigmoi](https://www.xeridia.com/sites/default/files/contenidos/blog/neurona_artificial.jpg)\n",
        "\n",
        "\n",
        "* Amb softmax :\n",
        "\n",
        "![Sigmoid i Softmax](http://torres.ai/wp-content/uploads/2018/06/PictureMLP2.png)\n",
        "\n",
        "\n"
      ]
    },
    {
      "cell_type": "code",
      "metadata": {
        "id": "X4GBDjcUJD4D",
        "colab_type": "code",
        "colab": {
          "base_uri": "https://localhost:8080/",
          "height": 316
        },
        "outputId": "1880786b-8bfd-4e54-a7be-6a8f32a3df42"
      },
      "source": [
        "import tensorflow as tf\n",
        "from tensorflow import keras\n",
        "import numpy as np\n",
        "import matplotlib.pyplot as plt\n",
        "\n",
        "\n",
        "#Agafo el dataset mnist\n",
        "mnist = tf.keras.datasets.mnist\n",
        "\n",
        "#carrego les dades del dataset\n",
        "#x_train , y_train son el conjunt de dades d'entrenament i x_test i y_test les de prova\n",
        "(x_train , y_train), (x_test , y_test) = mnist.load_data() \n",
        "#Amb aquesta comanda puc veure la imatge 8 que hem pre carregat\n",
        "\n",
        "print(\"Imatge d'entranament\")\n",
        "plt.imshow(x_train[8] , cmap=plt.cm.binary)\n",
        "\n",
        "print(\"Resultat que hauria de retornar la IA entrenada\")\n",
        "print(y_train[8])"
      ],
      "execution_count": null,
      "outputs": [
        {
          "output_type": "stream",
          "text": [
            "Imatge d'entranament\n",
            "Resultat que hauria de retornar la IA entrenada\n",
            "1\n"
          ],
          "name": "stdout"
        },
        {
          "output_type": "display_data",
          "data": {
            "image/png": "[encoded data removed]",
            "text/plain": [
              "<Figure size 432x288 with 1 Axes>"
            ]
          },
          "metadata": {
            "tags": [],
            "needs_background": "light"
          }
        }
      ]
    },
    {
      "cell_type": "code",
      "metadata": {
        "id": "OlTUsjv8KwAv",
        "colab_type": "code",
        "colab": {
          "base_uri": "https://localhost:8080/",
          "height": 119
        },
        "outputId": "9f5f6967-53f6-4c7d-86f3-e51dc4c0483f"
      },
      "source": [
        "#Puc mirar ara per exemple la dimensió de x i de i\n",
        "\n",
        "print(\"Shape de x : \", x_train.shape)\n",
        "print(\"Shape de y : \", y_train.shape)\n",
        "print(\"Dimensió de x : \" , x_train.ndim)\n",
        "print(\"Dimensió de y : \" , y_train.ndim)\n",
        "print(\"Tipus de x : \" , x_train.dtype)\n",
        "print(\"Tipus de y : \" , y_train.dtype)"
      ],
      "execution_count": null,
      "outputs": [
        {
          "output_type": "stream",
          "text": [
            "Shape de x :  (60000, 28, 28)\n",
            "Shape de y :  (60000,)\n",
            "Dimensió de x :  3\n",
            "Dimensió de y :  1\n",
            "Tipus de x :  uint8\n",
            "Tipus de y :  uint8\n"
          ],
          "name": "stdout"
        }
      ]
    },
    {
      "cell_type": "markdown",
      "metadata": {
        "id": "e9hU2-IQLuh2",
        "colab_type": "text"
      },
      "source": [
        "En alguns casos ens interesarà canviar els valors de les entrades a un altre que s'explica més endavant.  En aquest pas es converteix x_train a y_train a floats"
      ]
    },
    {
      "cell_type": "code",
      "metadata": {
        "id": "BzKWJjMwMLUU",
        "colab_type": "code",
        "colab": {}
      },
      "source": [
        "x_train = x_train.astype('float32')\n",
        "x_test = x_test.astype('float32')\n",
        "x_train /= 255\n",
        "x_test /= 255"
      ],
      "execution_count": null,
      "outputs": []
    },
    {
      "cell_type": "markdown",
      "metadata": {
        "id": "vDoYUhU4Ml6H",
        "colab_type": "text"
      },
      "source": [
        "Ara mateix tinc una matriu de 28x28 . La red neuronal però sols accepta vectors de 1D per tant he de convertir aquesta matriu a un vector de 784"
      ]
    },
    {
      "cell_type": "code",
      "metadata": {
        "id": "enP5DXpFM0-A",
        "colab_type": "code",
        "colab": {}
      },
      "source": [
        "x_train = x_train.reshape(60000,784)\n",
        "x_test = x_test.reshape(10000, 784)"
      ],
      "execution_count": null,
      "outputs": []
    },
    {
      "cell_type": "markdown",
      "metadata": {
        "id": "kI_gSXExPtdy",
        "colab_type": "text"
      },
      "source": [
        "Ara tinc la y com a valor , però necessito convertir les etiquetes en vectors de 0 i 1 on sols tindré un 1 al valor que representi . Per exemple si la y = 1 => [0,1,0,0,0,0,0,0,0,0] . Per fer això utilitzaré el categorical de keras."
      ]
    },
    {
      "cell_type": "code",
      "metadata": {
        "id": "SYSXVFyVQUlu",
        "colab_type": "code",
        "colab": {
          "base_uri": "https://localhost:8080/",
          "height": 51
        },
        "outputId": "42de37ac-62f9-46d2-d2c7-68f7710acc31"
      },
      "source": [
        "from tensorflow.keras.utils import to_categorical\n",
        "print(\"y_test before categorical : \",y_test[0])\n",
        "y_train = to_categorical(y_train, num_classes = 10)\n",
        "y_test = to_categorical(y_test, num_classes = 10)\n",
        "print(\"y_test after categorical : \",y_test[0])"
      ],
      "execution_count": null,
      "outputs": [
        {
          "output_type": "stream",
          "text": [
            "y_test before categorical :  7\n",
            "y_test after categorical :  [0. 0. 0. 0. 0. 0. 0. 1. 0. 0.]\n"
          ],
          "name": "stdout"
        }
      ]
    },
    {
      "cell_type": "markdown",
      "metadata": {
        "id": "oTWQwK8YRESb",
        "colab_type": "text"
      },
      "source": [
        "Creant la red neuronal bàsica. S'utilitzarà el sequential que és basicament una red neuronal seqüencial on cada neurona està comunicada amb les seves anteriors i posteriors i la dada viatge de forma seqüencial.\n",
        "\n",
        "Definició del model seqüencial: \n",
        "\n",
        "### **Modelo secuencial**\n",
        "\n",
        "\n",
        "> La API de Keras tiene dos modos de construir redes neuronales. El más simple es el modelo secuencial que solo permite que las capas se agreguen en secuencia. Más adelante veremos la otra forma. En el código que se muestra a continuación , explicaremos como crear nuestro modelo con la API Keras para el modelo secuencial..\n",
        "\n"
      ]
    },
    {
      "cell_type": "code",
      "metadata": {
        "id": "DPoGt3FHRCp8",
        "colab_type": "code",
        "colab": {
          "base_uri": "https://localhost:8080/",
          "height": 221
        },
        "outputId": "f3458e14-7565-4a54-951b-4ce74fd5de77"
      },
      "source": [
        "import tensorflow as tf\n",
        "from tensorflow import keras\n",
        "from tensorflow.keras import layers\n",
        "\n",
        "model = keras.Sequential() #Defineixo el model que sigui sequencial\n",
        "#Es defineix una red de 10 neuronas on la funció d'activació es la sigmoid i una capa d'entrada de 784 valors\n",
        "model.add(layers.Dense(10,activation='sigmoid', input_shape=(784,)))\n",
        "#Es defineix una red de 10 neurones on la funció d'activació serà softmax\n",
        "model.add(layers.Dense(10, activation='softmax'))\n",
        "#Printejo el sumarry creat\n",
        "model.summary()"
      ],
      "execution_count": null,
      "outputs": [
        {
          "output_type": "stream",
          "text": [
            "Model: \"sequential_4\"\n",
            "_________________________________________________________________\n",
            "Layer (type)                 Output Shape              Param #   \n",
            "=================================================================\n",
            "dense_4 (Dense)              (None, 10)                7850      \n",
            "_________________________________________________________________\n",
            "dense_5 (Dense)              (None, 10)                110       \n",
            "=================================================================\n",
            "Total params: 7,960\n",
            "Trainable params: 7,960\n",
            "Non-trainable params: 0\n",
            "_________________________________________________________________\n"
          ],
          "name": "stdout"
        }
      ]
    },
    {
      "cell_type": "markdown",
      "metadata": {
        "id": "hIXHMb47V4pK",
        "colab_type": "text"
      },
      "source": [
        "Ara tinc el model definit. Falta indicar com serà el seu aprenentatge amb el metode **compile()** . Aquest funció té els següents arguments:\n",
        "\n",
        "\n",
        "> 1. Grau d'error entre les sortides desitjades i les sortides calculades (loss function)\n",
        "> 2. Indica l'optimització que es farà dins la red neuronal per calcular els pesos dels paràmetres\n",
        "> 3. Indica la mètrica que s'utilitzarà per monitoritzar el process d'aprenentatge de la red neuronal. \n",
        "\n",
        "\n",
        "\n",
        "\n",
        "\n",
        "\n"
      ]
    },
    {
      "cell_type": "code",
      "metadata": {
        "id": "SczRdHW_V8Nb",
        "colab_type": "code",
        "colab": {}
      },
      "source": [
        "model.compile(loss = \"categorical_crossentropy\" , optimizer=\"sgd\" , metrics=['accuracy'])"
      ],
      "execution_count": null,
      "outputs": []
    },
    {
      "cell_type": "markdown",
      "metadata": {
        "id": "-Au-ZNtsXV1A",
        "colab_type": "text"
      },
      "source": [
        "Per entrenar el model caldrà simplament cridar a la funció fit. Aquest té 3 paràmetres. Input, output i epochs que indica el número de vegades que s'utilitzarà totes les dades del procés."
      ]
    },
    {
      "cell_type": "code",
      "metadata": {
        "id": "x6RmSKwWXpNg",
        "colab_type": "code",
        "colab": {
          "base_uri": "https://localhost:8080/",
          "height": 204
        },
        "outputId": "ef0f74bc-eaeb-4196-ed80-43954c4bb981"
      },
      "source": [
        "model.fit(x_train, y_train , epochs=5)"
      ],
      "execution_count": null,
      "outputs": [
        {
          "output_type": "stream",
          "text": [
            "Epoch 1/5\n",
            "1875/1875 [==============================] - 4s 2ms/step - loss: 1.9496 - accuracy: 0.4844\n",
            "Epoch 2/5\n",
            "1875/1875 [==============================] - 4s 2ms/step - loss: 1.3369 - accuracy: 0.7054\n",
            "Epoch 3/5\n",
            "1875/1875 [==============================] - 4s 2ms/step - loss: 1.0035 - accuracy: 0.7709\n",
            "Epoch 4/5\n",
            "1875/1875 [==============================] - 4s 2ms/step - loss: 0.8179 - accuracy: 0.8127\n",
            "Epoch 5/5\n",
            "1875/1875 [==============================] - 4s 2ms/step - loss: 0.7012 - accuracy: 0.8385\n"
          ],
          "name": "stdout"
        },
        {
          "output_type": "execute_result",
          "data": {
            "text/plain": [
              "<tensorflow.python.keras.callbacks.History at 0x7f9f6c9f8240>"
            ]
          },
          "metadata": {
            "tags": []
          },
          "execution_count": 32
        }
      ]
    },
    {
      "cell_type": "markdown",
      "metadata": {
        "id": "kbi1AMyDdre-",
        "colab_type": "text"
      },
      "source": [
        "Ara toca evaluar que tant bona ha sigut la red neuronal."
      ]
    },
    {
      "cell_type": "code",
      "metadata": {
        "id": "fUawGR98dxIQ",
        "colab_type": "code",
        "colab": {
          "base_uri": "https://localhost:8080/",
          "height": 68
        },
        "outputId": "20393610-0bc8-461d-c87c-2354c9469298"
      },
      "source": [
        "test_loss , test_acc = model.evaluate(x_test, y_test)\n",
        "print(\"Test accuracy : \" , test_acc)\n",
        "print(\"Test lost : \" , test_loss)"
      ],
      "execution_count": null,
      "outputs": [
        {
          "output_type": "stream",
          "text": [
            "313/313 [==============================] - 1s 2ms/step - loss: 0.6423 - accuracy: 0.8512\n",
            "Test accuracy :  0.8511999845504761\n",
            "Test lost :  0.6422877311706543\n"
          ],
          "name": "stdout"
        }
      ]
    },
    {
      "cell_type": "markdown",
      "metadata": {
        "id": "odPPomNeegT7",
        "colab_type": "text"
      },
      "source": [
        "Keras ofereix el metrode predict que s'utilitza per realitzar prediccions en un model ja entrenat. "
      ]
    },
    {
      "cell_type": "code",
      "metadata": {
        "id": "Uv9P3DXtecxt",
        "colab_type": "code",
        "colab": {
          "base_uri": "https://localhost:8080/",
          "height": 282
        },
        "outputId": "d49ed49e-22e3-49fa-e295-3b734afea8c7"
      },
      "source": [
        "x_test = x_test.reshape(10000,28,28)\n",
        "plt.imshow(x_test[11], cmap=plt.cm.binary)"
      ],
      "execution_count": null,
      "outputs": [
        {
          "output_type": "execute_result",
          "data": {
            "text/plain": [
              "<matplotlib.image.AxesImage at 0x7f9fd021c240>"
            ]
          },
          "metadata": {
            "tags": []
          },
          "execution_count": 38
        },
        {
          "output_type": "display_data",
          "data": {
            "image/png": "[encoded data removed]",
            "text/plain": [
              "<Figure size 432x288 with 1 Axes>"
            ]
          },
          "metadata": {
            "tags": [],
            "needs_background": "light"
          }
        }
      ]
    },
    {
      "cell_type": "markdown",
      "metadata": {
        "id": "5RchU6YxfkGg",
        "colab_type": "text"
      },
      "source": [
        "S'observa que en el 11 tenim la imatge d'un 6."
      ]
    },
    {
      "cell_type": "code",
      "metadata": {
        "id": "5EIpWRIrfjpY",
        "colab_type": "code",
        "colab": {}
      },
      "source": [
        "x_test = x_test.reshape(10000,784)\n",
        "predictions = model.predict(x_test)"
      ],
      "execution_count": null,
      "outputs": []
    },
    {
      "cell_type": "markdown",
      "metadata": {
        "id": "1U8KKBuOf4pi",
        "colab_type": "text"
      },
      "source": [
        "Ara puc mirar a la posició 11 a quin número li dona més probabilitats"
      ]
    },
    {
      "cell_type": "code",
      "metadata": {
        "id": "j1bnxqk-f9WU",
        "colab_type": "code",
        "colab": {
          "base_uri": "https://localhost:8080/",
          "height": 68
        },
        "outputId": "70a24ac3-33bb-438a-b8ff-543216d7a456"
      },
      "source": [
        "print(predictions[11]) #printejo totes les prediccions\n",
        "print(np.argmax(predictions[11]))"
      ],
      "execution_count": null,
      "outputs": [
        {
          "output_type": "stream",
          "text": [
            "[0.06033864 0.01968632 0.26609975 0.02995266 0.03450093 0.06145741\n",
            " 0.39199662 0.01219927 0.11124647 0.01252194]\n",
            "6\n"
          ],
          "name": "stdout"
        }
      ]
    }
  ]
}