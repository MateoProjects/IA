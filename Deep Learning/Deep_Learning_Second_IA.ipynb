{
  "nbformat": 4,
  "nbformat_minor": 0,
  "metadata": {
    "colab": {
      "name": "Deep Learning Second IA.ipynb",
      "provenance": [],
      "authorship_tag": "ABX9TyOCaSnPgYrhavgLyX1ykrkl",
      "include_colab_link": true
    },
    "kernelspec": {
      "name": "python3",
      "display_name": "Python 3"
    },
    "accelerator": "GPU"
  },
  "cells": [
    {
      "cell_type": "markdown",
      "metadata": {
        "id": "view-in-github",
        "colab_type": "text"
      },
      "source": [
        "<a href=\"https://colab.research.google.com/github/MateoProjects/DeepLearning/blob/master/Deep_Learning_Second_IA.ipynb\" target=\"_parent\"><img src=\"https://colab.research.google.com/assets/colab-badge.svg\" alt=\"Open In Colab\"/></a>"
      ]
    },
    {
      "cell_type": "markdown",
      "metadata": {
        "id": "TgJz7sWDgqg7",
        "colab_type": "text"
      },
      "source": [
        "#Fashion-MNIST\n",
        "\n",
        "* S'evaluaran articles de Zalando utilitzant un dataset de 70.000 imatges en escala de grisos en 10 categories. 60.000 d'entrenament i 10.000 de test. "
      ]
    },
    {
      "cell_type": "markdown",
      "metadata": {
        "id": "wAKK5txThWZo",
        "colab_type": "text"
      },
      "source": [
        "## 1. Imports "
      ]
    },
    {
      "cell_type": "code",
      "metadata": {
        "id": "p2pdBidigekC",
        "colab_type": "code",
        "colab": {}
      },
      "source": [
        "%tensorflow_version 2.x\n",
        "import tensorflow as tf\n",
        "from tensorflow import keras\n",
        "from keras import layers\n",
        "from keras import Sequential\n",
        "import numpy as np\n",
        "import matplotlib.pyplot as plt\n"
      ],
      "execution_count": null,
      "outputs": []
    },
    {
      "cell_type": "markdown",
      "metadata": {
        "id": "EKcDLkpFhdZq",
        "colab_type": "text"
      },
      "source": [
        "## 2. Preparació del dataset "
      ]
    },
    {
      "cell_type": "code",
      "metadata": {
        "id": "-KchMcSOhjJ-",
        "colab_type": "code",
        "colab": {}
      },
      "source": [
        "fashion_mnist = keras.datasets.fashion_mnist\n",
        "(train_images , train_labels), (test_images, test_labels) = fashion_mnist.load_data()\n",
        "#Es crea aquesta llista per un futur\n",
        "class_name = ['T-shirt' , \"Trouser \" , \"Pullover\" , \"Dress\" , \"Coat\" , \"Sandal\" , \"Shirt\" , \"Sneaker\" , \"Motxila\" , \"Ankle bot\"]\n",
        "train_images = train_images.astype('float32')\n",
        "test_images = test_images.astype('float32')\n",
        "train_images /= 255.0\n",
        "test_images /= 255.0"
      ],
      "execution_count": null,
      "outputs": []
    },
    {
      "cell_type": "markdown",
      "metadata": {
        "id": "pp2xhnZEh44o",
        "colab_type": "text"
      },
      "source": [
        "## 3. Observació de les dades"
      ]
    },
    {
      "cell_type": "code",
      "metadata": {
        "id": "xXc3yqyRh-wz",
        "colab_type": "code",
        "colab": {
          "base_uri": "https://localhost:8080/",
          "height": 283
        },
        "outputId": "a0e21120-3cf9-4251-d79b-3cd768eb1c41"
      },
      "source": [
        "plt.imshow(train_images[1] , cmap=plt.cm.binary)"
      ],
      "execution_count": null,
      "outputs": [
        {
          "output_type": "execute_result",
          "data": {
            "text/plain": [
              "<matplotlib.image.AxesImage at 0x7f24fea1a7f0>"
            ]
          },
          "metadata": {
            "tags": []
          },
          "execution_count": 3
        },
        {
          "output_type": "display_data",
          "data": {
            "image/png": "[encoded data removed]",
            "text/plain": [
              "<Figure size 432x288 with 1 Axes>"
            ]
          },
          "metadata": {
            "tags": [],
            "needs_background": "light"
          }
        }
      ]
    },
    {
      "cell_type": "markdown",
      "metadata": {
        "id": "GSVrOd8Gj3gV",
        "colab_type": "text"
      },
      "source": [
        "\n",
        "## 4. Preparació del model\n",
        "\n",
        "\n",
        "\n",
        "> El sequential model permet fer un reshape de forma automàtica indicanto camb la funció keras.Layers.Flatten()\n",
        "\n"
      ]
    },
    {
      "cell_type": "code",
      "metadata": {
        "id": "NcWT91FNjzmG",
        "colab_type": "code",
        "colab": {}
      },
      "source": [
        "model = Sequential()\n",
        "model.add(layers.Flatten(input_shape =(28,28)))\n",
        "model.add(layers.Dense(10, activation='sigmoid', ))\n",
        "model.add(layers.Dense(10, activation='softmax'))"
      ],
      "execution_count": null,
      "outputs": []
    },
    {
      "cell_type": "markdown",
      "metadata": {
        "id": "q_pbpiEUn4Zr",
        "colab_type": "text"
      },
      "source": [
        "## 5. Configuració del Model"
      ]
    },
    {
      "cell_type": "code",
      "metadata": {
        "id": "DvgzT7WHn720",
        "colab_type": "code",
        "colab": {}
      },
      "source": [
        "model.compile(optimizer='sgd' , loss='sparse_categorical_crossentropy' , metrics=['accuracy'])"
      ],
      "execution_count": null,
      "outputs": []
    },
    {
      "cell_type": "markdown",
      "metadata": {
        "id": "Egf9YfyCoWeZ",
        "colab_type": "text"
      },
      "source": [
        "## 6. Entrenament del model"
      ]
    },
    {
      "cell_type": "code",
      "metadata": {
        "id": "Bk6hVh7AoZPy",
        "colab_type": "code",
        "colab": {
          "base_uri": "https://localhost:8080/",
          "height": 217
        },
        "outputId": "052256d0-cd01-4e5c-e323-7c3d03952b12"
      },
      "source": [
        "model.fit(train_images , train_labels, epochs=5)"
      ],
      "execution_count": null,
      "outputs": [
        {
          "output_type": "stream",
          "text": [
            "Epoch 1/5\n",
            "60000/60000 [==============================] - 5s 91us/step - loss: 1.7532 - accuracy: 0.4942\n",
            "Epoch 2/5\n",
            "60000/60000 [==============================] - 4s 63us/step - loss: 1.2328 - accuracy: 0.6654\n",
            "Epoch 3/5\n",
            "60000/60000 [==============================] - 4s 63us/step - loss: 0.9945 - accuracy: 0.7205\n",
            "Epoch 4/5\n",
            "60000/60000 [==============================] - 4s 64us/step - loss: 0.8551 - accuracy: 0.7455\n",
            "Epoch 5/5\n",
            "60000/60000 [==============================] - 4s 63us/step - loss: 0.7662 - accuracy: 0.7643\n"
          ],
          "name": "stdout"
        },
        {
          "output_type": "execute_result",
          "data": {
            "text/plain": [
              "<keras.callbacks.callbacks.History at 0x7f24a20aee10>"
            ]
          },
          "metadata": {
            "tags": []
          },
          "execution_count": 16
        }
      ]
    },
    {
      "cell_type": "markdown",
      "metadata": {
        "id": "peD7Ej44pG3Q",
        "colab_type": "text"
      },
      "source": [
        "## 7. Evaluació i millora del model"
      ]
    },
    {
      "cell_type": "code",
      "metadata": {
        "id": "Nie_E-WHpMzt",
        "colab_type": "code",
        "colab": {
          "base_uri": "https://localhost:8080/",
          "height": 54
        },
        "outputId": "443c17c7-bec4-42b0-d1ad-81513f5a923f"
      },
      "source": [
        "test_loss , test_acc = model.evaluate(test_images, test_labels)\n",
        "print(\"Test accuracy : \" , test_acc)"
      ],
      "execution_count": null,
      "outputs": [
        {
          "output_type": "stream",
          "text": [
            "10000/10000 [==============================] - 0s 47us/step\n",
            "Test accuracy :  0.7594000101089478\n"
          ],
          "name": "stdout"
        }
      ]
    },
    {
      "cell_type": "markdown",
      "metadata": {
        "id": "kISyQ4mdpeAj",
        "colab_type": "text"
      },
      "source": [
        "## 8. Predicció"
      ]
    },
    {
      "cell_type": "code",
      "metadata": {
        "id": "EbwXY1RFpc-D",
        "colab_type": "code",
        "colab": {
          "base_uri": "https://localhost:8080/",
          "height": 337
        },
        "outputId": "74cbfe3e-596d-492b-ad65-8f059e084976"
      },
      "source": [
        "predictions = model.predict(test_images)\n",
        "print(predictions[5])\n",
        "print(np.argmax(predictions[5]))\n",
        "plt.imshow(train_images[5] , cmap=plt.cm.binary)\n",
        "print(test_labels[5])"
      ],
      "execution_count": null,
      "outputs": [
        {
          "output_type": "stream",
          "text": [
            "[0.02251523 0.85415316 0.01315073 0.03921252 0.04178664 0.00247124\n",
            " 0.01351612 0.00517431 0.00237794 0.00564218]\n",
            "1\n",
            "1\n"
          ],
          "name": "stdout"
        },
        {
          "output_type": "display_data",
          "data": {
            "image/png": "[encoded data removed]",
            "text/plain": [
              "<Figure size 432x288 with 1 Axes>"
            ]
          },
          "metadata": {
            "tags": [],
            "needs_background": "light"
          }
        }
      ]
    },
    {
      "cell_type": "markdown",
      "metadata": {
        "id": "Ep4laVmbqs8D",
        "colab_type": "text"
      },
      "source": [
        "## 9. Millora del Model\n",
        "\n",
        "\n",
        "> El model obté simplament una precisió del 75% per tant falla bastant. Més endavant s'explicarà però en aquest cas canviant el optimizer per \"adam\" obtindrem una millor precisió\n",
        "\n"
      ]
    },
    {
      "cell_type": "code",
      "metadata": {
        "id": "RFHlNpiUq_Zs",
        "colab_type": "code",
        "colab": {
          "base_uri": "https://localhost:8080/",
          "height": 235
        },
        "outputId": "4421e55f-24a4-4426-a3cc-a5cd5d93ca42"
      },
      "source": [
        "model.compile(optimizer='adam' , loss='sparse_categorical_crossentropy' , metrics=['accuracy'])\n",
        "model.fit(train_images , train_labels, epochs=5)\n",
        "test_loss , test_acc = model.evaluate(test_images, test_labels)\n",
        "print(\"Test accuracy : \" , test_acc)"
      ],
      "execution_count": null,
      "outputs": [
        {
          "output_type": "stream",
          "text": [
            "Epoch 1/5\n",
            "60000/60000 [==============================] - 5s 81us/step - loss: 0.5853 - accuracy: 0.8093\n",
            "Epoch 2/5\n",
            "60000/60000 [==============================] - 5s 79us/step - loss: 0.4769 - accuracy: 0.8382\n",
            "Epoch 3/5\n",
            "60000/60000 [==============================] - 5s 78us/step - loss: 0.4391 - accuracy: 0.8480\n",
            "Epoch 4/5\n",
            "60000/60000 [==============================] - 5s 80us/step - loss: 0.4185 - accuracy: 0.8523\n",
            "Epoch 5/5\n",
            "60000/60000 [==============================] - 5s 78us/step - loss: 0.4049 - accuracy: 0.8566\n",
            "10000/10000 [==============================] - 0s 47us/step\n",
            "Test accuracy :  0.8357999920845032\n"
          ],
          "name": "stdout"
        }
      ]
    }
  ]
}